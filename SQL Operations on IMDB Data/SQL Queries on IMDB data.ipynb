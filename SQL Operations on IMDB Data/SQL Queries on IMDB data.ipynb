{
 "cells": [
  {
   "cell_type": "code",
   "execution_count": 1,
   "metadata": {},
   "outputs": [],
   "source": [
    "import pandas as pd\n",
    "import numpy as np\n",
    "import sqlite3"
   ]
  },
  {
   "cell_type": "code",
   "execution_count": 2,
   "metadata": {},
   "outputs": [],
   "source": [
    "con = sqlite3.connect(r'C:\\Users\\krush\\Desktop\\Data Science\\SQL/Db-IMDB-Assignment.db')"
   ]
  },
  {
   "cell_type": "markdown",
   "metadata": {},
   "source": [
    "                                                --- Question 1 ---\n",
    "List all the directors who directed a 'Comedy' movie in a leap year. (You need to check that the genre is 'Comedy’ and year is a leap year) Your query should return director name, the movie name, and the year. "
   ]
  },
  {
   "cell_type": "code",
   "execution_count": 6,
   "metadata": {},
   "outputs": [
    {
     "name": "stdout",
     "output_type": "stream",
     "text": [
      "              director_name                         movie_name movie_year\n",
      "0              Milap Zaveri                         Mastizaade       2016\n",
      "1              Danny Leiner  Harold & Kumar Go to White Castle       2004\n",
      "2            Anurag Kashyap                 Gangs of Wasseypur       2012\n",
      "3              Frank Coraci        Around the World in 80 Days       2004\n",
      "4             Griffin Dunne             The Accidental Husband       2008\n",
      "..                      ...                                ...        ...\n",
      "241   Siddharth Anand Kumar                        Let's Enjoy       2004\n",
      "242         Amma Rajasekhar                            Sathyam       2008\n",
      "243           Oliver Paulus                      Tandoori Love       2008\n",
      "244             Raja Chanda                        Le Halua Le       2012\n",
      "245        K.S. Prakash Rao                  Raja Aur Rangeeli       1996\n",
      "\n",
      "[246 rows x 3 columns]\n"
     ]
    }
   ],
   "source": [
    "ques1 = \"\"\" SELECT  p.name as director_name, m.title as movie_name, SUBSTRING(m.year, -4, 4) as movie_year from\n",
    "    Movie m JOIN M_Director md ON m.MID = md.MID\n",
    "    JOIN Person p ON p.PID = md.PID \n",
    "    JOIN M_Genre mg ON mg.MID = md.MID\n",
    "    JOIN Genre g ON g.GID = mg.GID\n",
    "    where g.Name Like '%Comedy%' \n",
    "    AND (\n",
    "    (TRIM(m.year) % 4 = 0 AND TRIM(m.year) % 100 != 0 ) \n",
    "    OR ( TRIM(m.year) % 400 = 0) )\"\"\"\n",
    "ques1conn = pd.read_sql_query(ques1,con)\n",
    "print(ques1conn)"
   ]
  },
  {
   "cell_type": "code",
   "execution_count": null,
   "metadata": {},
   "outputs": [],
   "source": []
  },
  {
   "cell_type": "markdown",
   "metadata": {},
   "source": [
    "                                                --- Question 2 ---\n",
    "Question 2 : List the names of all the actors who played in the movie 'Anand' (1971) "
   ]
  },
  {
   "cell_type": "code",
   "execution_count": 7,
   "metadata": {},
   "outputs": [
    {
     "name": "stdout",
     "output_type": "stream",
     "text": [
      "           Actor_Name\n",
      "0    Amitabh Bachchan\n",
      "1       Rajesh Khanna\n",
      "2       Sumita Sanyal\n",
      "3          Ramesh Deo\n",
      "4           Seema Deo\n",
      "5      Asit Kumar Sen\n",
      "6          Dev Kishan\n",
      "7        Atam Prakash\n",
      "8       Lalita Kumari\n",
      "9              Savita\n",
      "10     Brahm Bhardwaj\n",
      "11       Gurnam Singh\n",
      "12       Lalita Pawar\n",
      "13        Durga Khote\n",
      "14         Dara Singh\n",
      "15      Johnny Walker\n",
      "16          Moolchand\n"
     ]
    }
   ],
   "source": [
    "ques2 = \"\"\"SELECT p.Name as Actor_Name FROM Person p WHERE p.PID IN\n",
    "           (SELECT TRIM(mc.PID) FROM M_Cast mc Where mc.MID IN\n",
    "           (SELECT TRIM(MID) FROM Movie m where m.Title Like '%Anand%' and m.year = '1971'))\"\"\"\n",
    "ques2conn = pd.read_sql_query(ques2,con)\n",
    "print(ques2conn)"
   ]
  },
  {
   "cell_type": "code",
   "execution_count": null,
   "metadata": {},
   "outputs": [],
   "source": []
  },
  {
   "cell_type": "markdown",
   "metadata": {},
   "source": [
    "                                                 --- Question 3 ---\n",
    "Question 3: List all the actors who acted in a film before 1970 and in a film after 1990. (That is: < 1970 \n",
    "and > 1990.) \n",
    "                                              "
   ]
  },
  {
   "cell_type": "code",
   "execution_count": 8,
   "metadata": {},
   "outputs": [
    {
     "name": "stdout",
     "output_type": "stream",
     "text": [
      "                  Name\n",
      "0         Rishi Kapoor\n",
      "1     Amitabh Bachchan\n",
      "2               Asrani\n",
      "3         Zohra Sehgal\n",
      "4      Parikshat Sahni\n",
      "..                 ...\n",
      "328             Poonam\n",
      "329      Jamila Massey\n",
      "330        K.R. Vijaya\n",
      "331              Sethi\n",
      "332       Suryakantham\n",
      "\n",
      "[333 rows x 1 columns]\n"
     ]
    }
   ],
   "source": [
    "ques3 = \"\"\"SELECT p.Name FROM Person p WHERE PID IN(\n",
    "          SELECT TRIM(mc.PID) FROM M_Cast mc WHERE MID IN\n",
    "          (SELECT TRIM(m.MID) FROM Movie m where m.year > 1990)\n",
    "          INTERSECT\n",
    "          SELECT TRIM(mc.PID) FROM M_Cast mc WHERE MID IN\n",
    "          (SELECT TRIM(m.MID) FROM Movie m where m.year < 1970))\n",
    "\"\"\"\n",
    "ques3con = pd.read_sql_query(ques3,con)\n",
    "print(ques3con)"
   ]
  },
  {
   "cell_type": "code",
   "execution_count": null,
   "metadata": {},
   "outputs": [],
   "source": []
  },
  {
   "cell_type": "markdown",
   "metadata": {},
   "source": [
    "                                                 --- Question 4 ---\n",
    "Question 4: List all directors who directed 10 movies or more, in descending order of the number of movies they directed. Return the directors' names and the number of movies each of them directed. \n"
   ]
  },
  {
   "cell_type": "code",
   "execution_count": 9,
   "metadata": {},
   "outputs": [
    {
     "name": "stdout",
     "output_type": "stream",
     "text": [
      "                Director_Name  COUNT(p.Name)\n",
      "0                David Dhawan             39\n",
      "1                Mahesh Bhatt             36\n",
      "2                Priyadarshan             30\n",
      "3             Ram Gopal Varma             30\n",
      "4                Vikram Bhatt             29\n",
      "5        Hrishikesh Mukherjee             27\n",
      "6                 Yash Chopra             21\n",
      "7              Shakti Samanta             19\n",
      "8             Basu Chatterjee             19\n",
      "9                Subhash Ghai             18\n",
      "10          Rama Rao Tatineni             17\n",
      "11              Shyam Benegal             17\n",
      "12   Abbas Alibhai Burmawalla             17\n",
      "13               Raj N. Sippy             16\n",
      "14             Manmohan Desai             16\n",
      "15                     Gulzar             16\n",
      "16                 Raj Kanwar             15\n",
      "17           Mahesh Manjrekar             15\n",
      "18          Rajkumar Santoshi             14\n",
      "19                 Raj Khosla             14\n",
      "20               Rahul Rawail             14\n",
      "21                Indra Kumar             14\n",
      "22                Vijay Anand             13\n",
      "23              Rakesh Roshan             13\n",
      "24         K. Raghavendra Rao             13\n",
      "25               Harry Baweja             13\n",
      "26                  Dev Anand             13\n",
      "27             Anurag Kashyap             13\n",
      "28   Ananth Narayan Mahadevan             13\n",
      "29                Umesh Mehra             12\n",
      "30             Satish Kaushik             12\n",
      "31               Rohit Shetty             12\n",
      "32              Prakash Mehra             12\n",
      "33                Prakash Jha             12\n",
      "34            Nagesh Kukunoor             12\n",
      "35          Madhur Bhandarkar             12\n",
      "36               Guddu Dhanoa             12\n",
      "37                Anil Sharma             12\n",
      "38               Anees Bazmee             12\n",
      "39               Sanjay Gupta             11\n",
      "40         Pramod Chakravorty             11\n",
      "41              Nasir Hussain             11\n",
      "42                 Mohit Suri             11\n",
      "43                Ketan Mehta             11\n",
      "44            Govind Nihalani             11\n"
     ]
    }
   ],
   "source": [
    "ques4 = \"\"\"SELECT p.Name as Director_Name, COUNT(p.Name) FROM Movie m JOIN \n",
    "           M_Director md ON md.MID = m.MID JOIN\n",
    "           Person p ON p.PID = md.PID GROUP BY p.Name HAVING COUNT(p.Name) > 10 ORDER BY COUNT(p.Name) DESC\n",
    "\"\"\"\n",
    "ques4con =pd.read_sql_query(ques4,con)\n",
    "print(ques4con)"
   ]
  },
  {
   "cell_type": "code",
   "execution_count": null,
   "metadata": {},
   "outputs": [],
   "source": []
  },
  {
   "cell_type": "markdown",
   "metadata": {},
   "source": [
    "                                                 --- Question 5 ---\n",
    "Question 5: A. For each year, count the number of movies in that year that had only female actors. \n",
    "B. Now include a small change: report for each year the percentage of movies in that year with only female actors, and the total number of movies made that year. For example, one answer will be: 1990 31.81 13522 meaning that in 1990 there were 13,522 movies, and 31.81% had only female actors. You do not need to round your answer. \n"
   ]
  },
  {
   "cell_type": "code",
   "execution_count": 29,
   "metadata": {},
   "outputs": [
    {
     "name": "stdout",
     "output_type": "stream",
     "text": [
      "   female_mcount    Year\n",
      "0              1    1939\n",
      "1              1    1999\n",
      "2              1    2000\n",
      "3              1  I 2018\n"
     ]
    }
   ],
   "source": [
    "ques5A = \"\"\"SELECT COUNT(TRIM(MID)) as female_mcount, m.year as Year FROM Movie m WHERE TRIM(MID) NOT IN\n",
    "            (SELECT DISTINCT  TRIM(mc.MID) FROM M_Cast mc WHERE TRIM(PID) IN\n",
    "            (SELECT p.PID FROM Person p  WHERE TRIM(p.Gender) = 'Male'))  GROUP BY m.year \n",
    "            \n",
    "\n",
    "\"\"\"\n",
    "ques5Aconn = pd.read_sql_query(ques5A,con)\n",
    "print(ques5Aconn)"
   ]
  },
  {
   "cell_type": "code",
   "execution_count": 18,
   "metadata": {},
   "outputs": [
    {
     "name": "stdout",
     "output_type": "stream",
     "text": [
      "     Year  Total_Movie_Count  female_mcount  Percentage\n",
      "0    1939                  2              1   50.000000\n",
      "1    1999                 66              1    1.515152\n",
      "2    2000                 64              1    1.562500\n",
      "3  I 2018                 10              1   10.000000\n"
     ]
    }
   ],
   "source": [
    "ques5B = \"\"\"SELECT m.year as Year, COUNT(m.MID) as Total_Movie_Count,female_mcount, (female_mcount * 100.0 / COUNT(m.MID)) as Percentage FROM Movie m JOIN\n",
    "            (SELECT COUNT(TRIM(MID)) as female_mcount, m.year as Year FROM Movie m WHERE TRIM(MID) NOT IN\n",
    "            (SELECT DISTINCT  TRIM(mc.MID) FROM M_Cast mc WHERE TRIM(PID) IN\n",
    "            (SELECT p.PID FROM Person p  WHERE TRIM(p.Gender) = 'Male'))  GROUP BY m.year)as fmovies_count ON  m.year = fmovies_count.year GROUP BY m.year\n",
    "            \n",
    "            \n",
    "\n",
    "\"\"\"\n",
    "ques5Bconn = pd.read_sql_query(ques5B,con)\n",
    "print(ques5Bconn)"
   ]
  },
  {
   "cell_type": "code",
   "execution_count": null,
   "metadata": {},
   "outputs": [],
   "source": []
  },
  {
   "cell_type": "markdown",
   "metadata": {},
   "source": [
    "                                                 --- Question 6 ---\n",
    "Question 6:. Find the film(s) with the largest cast. Return the movie title and the size of the cast. By \"cast size\" we mean the number of distinct actors that played in that movie: if an actor played multiple roles, or if it simply occurs multiple times in casts, we still count her/him only once. "
   ]
  },
  {
   "cell_type": "code",
   "execution_count": 37,
   "metadata": {},
   "outputs": [
    {
     "name": "stdout",
     "output_type": "stream",
     "text": [
      "     Movie_Title  Max_Cast_Count\n",
      "0  Ocean's Eight             238\n"
     ]
    }
   ],
   "source": [
    "ques6 = \"\"\"SELECT r.Title as Movie_Title, MAX(Cast_Count) as Max_Cast_Count FROM \n",
    "            (SELECT COUNT(DISTINCT mc.PID) as Cast_Count, m.Title FROM Movie m\n",
    "           JOIN M_Cast mc ON m.MID = mc.MID GROUP BY m.MID ORDER BY Cast_Count DESC) as r\"\"\"\n",
    "ques6conn = pd.read_sql_query(ques6,con)\n",
    "print(ques6conn)"
   ]
  },
  {
   "cell_type": "code",
   "execution_count": null,
   "metadata": {},
   "outputs": [],
   "source": []
  },
  {
   "cell_type": "markdown",
   "metadata": {},
   "source": [
    "                                                 --- Question 7 ---\n",
    "Question 7:A decade is a sequence of 10 consecutive years. For example, say in your database you have movie information starting from 1965. Then the first decade is 1965, 1966, ..., 1974; the second one is 1967, 1968, ..., 1976 and so on. Find the decade D with the largest number of films and the total number of films in D.  "
   ]
  },
  {
   "cell_type": "code",
   "execution_count": 105,
   "metadata": {},
   "outputs": [
    {
     "name": "stdout",
     "output_type": "stream",
     "text": [
      "  START   END  COUNT\n",
      "0  2008  2017   1126\n"
     ]
    }
   ],
   "source": [
    "ques7  = \"\"\"WITH \n",
    "            UNIQUE_YEAR AS (SELECT DISTINCT \"year\" FROM Movie)\n",
    "\n",
    "            SELECT D.\"year\" AS START, D.\"year\"+9 AS END, COUNT(*) AS 'COUNT' \n",
    "            FROM UNIQUE_YEAR D\n",
    "            JOIN Movie M on M.\"year\" >= START AND M.\"year\"<= END\n",
    "            GROUP BY END \n",
    "            ORDER BY COUNT(*) DESC \n",
    "            LIMIT 1 \"\"\"\n",
    "ques7conn = pd.read_sql_query(ques7,con)\n",
    "print(ques7conn)"
   ]
  },
  {
   "cell_type": "code",
   "execution_count": null,
   "metadata": {},
   "outputs": [],
   "source": []
  },
  {
   "cell_type": "markdown",
   "metadata": {},
   "source": [
    "                                              --- Question 8 ---\n",
    "Question 8:Find the actors that were never unemployed for more than 3 years at a stretch. (Assume that the actors remain unemployed between two consecutive movies). \n",
    " "
   ]
  },
  {
   "cell_type": "code",
   "execution_count": 35,
   "metadata": {},
   "outputs": [
    {
     "name": "stdout",
     "output_type": "stream",
     "text": [
      "                        Name\n",
      "0             Christian Bale\n",
      "1             Cate Blanchett\n",
      "2       Benedict Cumberbatch\n",
      "3              Naomie Harris\n",
      "4                Andy Serkis\n",
      "...                      ...\n",
      "31090           Kamika Verma\n",
      "31091     Dhorairaj Bhagavan\n",
      "31092           Nasir Shaikh\n",
      "31093                 Kannan\n",
      "31094           Adrian Fulle\n",
      "\n",
      "[31095 rows x 1 columns]\n"
     ]
    }
   ],
   "source": [
    "ques1 = \"\"\" WITH Movie_Year AS (\n",
    "        SELECT DISTINCT TRIM(MC.PID) AS PID, TRIM(M.Year) AS YEAR, \n",
    "        ROW_NUMBER() OVER (PARTITION BY TRIM(MC.PID) ORDER BY Year) Row_Num \n",
    "        FROM Movie M JOIN M_Cast MC ON TRIM(M.MID)=TRIM(MC.MID) \n",
    "         )\n",
    "\n",
    "        SELECT DISTINCT Name FROM Person WHERE PID NOT IN (\n",
    "        SELECT DISTINCT M1.PID FROM Movie_Year M1 JOIN Movie_Year M2 \n",
    "        ON M1.PID=M2.PID AND M1.Row_Num+1=M2.Row_Num\n",
    "        WHERE M2.Year-M1.Year >= 3  ) \"\"\"\n",
    "ques1conn = pd.read_sql_query(ques1,con)\n",
    "print(ques1conn)"
   ]
  },
  {
   "cell_type": "code",
   "execution_count": null,
   "metadata": {},
   "outputs": [],
   "source": []
  },
  {
   "cell_type": "markdown",
   "metadata": {},
   "source": [
    "                                            --- Question 9 ---\n",
    "Question 9:Find all the actors that made more movies with Yash Chopra than any other.  \n",
    " "
   ]
  },
  {
   "cell_type": "code",
   "execution_count": 4,
   "metadata": {},
   "outputs": [
    {
     "name": "stdout",
     "output_type": "stream",
     "text": [
      "                  Name  Count\n",
      "0          Jagdish Raj     11\n",
      "1     Manmohan Krishna     10\n",
      "2             Iftekhar      9\n",
      "3          Vikas Anand      8\n",
      "4           Madan Puri      8\n",
      "..                 ...    ...\n",
      "425         Ramchandra      1\n",
      "426    Sandow S. Sethi      1\n",
      "427              Naval      1\n",
      "428          Prem Sood      1\n",
      "429    Ramlal Shyamlal      1\n",
      "\n",
      "[430 rows x 2 columns]\n"
     ]
    }
   ],
   "source": [
    "ques9 = \"\"\"  SELECT p.Name, list.Count FROM Person p JOIN \n",
    "            (SELECT mc.PID,COUNT(mc.PID) as Count FROM M_Cast mc WHERE TRIM(MID) In\n",
    "            (SELECT md.MID FROM M_Director md WHERE TRIM(PID) IN\n",
    "            (SELECT p.PID FROM Person p WHERE TRIM(p.NAME) = 'Yash Chopra')) GROUP BY mc.PID )as list ON TRIM(p.PID) = TRIM(list.PID) ORDER BY list.count DESC\"\"\"\n",
    "ques9conn = pd.read_sql_query(ques9,con)\n",
    "print(ques9conn)"
   ]
  },
  {
   "cell_type": "code",
   "execution_count": null,
   "metadata": {},
   "outputs": [],
   "source": []
  },
  {
   "cell_type": "markdown",
   "metadata": {},
   "source": [
    "                                                 --- Question 10 ---\n",
    "Question 10:Find all the actors that made more movies with Yash Chopra than any other.  "
   ]
  },
  {
   "cell_type": "code",
   "execution_count": 34,
   "metadata": {},
   "outputs": [
    {
     "name": "stdout",
     "output_type": "stream",
     "text": [
      "                  Actor_Name\n",
      "0               Freida Pinto\n",
      "1                Rohan Chand\n",
      "2               Damian Young\n",
      "3            Waris Ahluwalia\n",
      "4      Caroline Christl Long\n",
      "...                      ...\n",
      "25693           Minoo Mehtab\n",
      "25694        Hayley Cleghorn\n",
      "25695        Nirvasha Jithoo\n",
      "25696         Kamal Maharshi\n",
      "25697           Mohini Manik\n",
      "\n",
      "[25698 rows x 1 columns]\n"
     ]
    }
   ],
   "source": [
    "ques10 = \"\"\" SELECT  TRIM(p.NAME) as Actor_Name FROM Person p WHERE TRIM(PID) IN\n",
    "            (SELECT TRIM(mc.PID) as S2ID FROM M_Cast mc WHERE TRIM(MID) IN\n",
    "            (SELECT TRIM(mc.MID) FROM M_cast mc WHERE TRIM(PID) IN\n",
    "            (SELECT TRIM(mc.PID) FROM M_Cast mc WHERE TRIM(MID) IN\n",
    "            (SELECT TRIM(mc.MID) FROM M_Cast mc WHERE TRIM(PID) IN\n",
    "            (SELECT TRIM(p.PID) FROM Person p WHERE TRIM(p.NAME) ='Shah Rukh Khan'))))\n",
    "            EXCEPT\n",
    "            SELECT TRIM(mc.PID) FROM M_Cast mc WHERE TRIM(mc.MID) IN\n",
    "            (SELECT TRIM(mc.MID) FROM M_Cast mc WHERE TRIM(PID) IN\n",
    "            (SELECT TRIM(p.PID) FROM Person p WHERE TRIM(p.NAME) ='Shah Rukh Khan')))\n",
    "            \"\"\"\n",
    "\n",
    "\n",
    "ques10conn = pd.read_sql_query(ques10,con)\n",
    "print(ques10conn)"
   ]
  },
  {
   "cell_type": "code",
   "execution_count": null,
   "metadata": {},
   "outputs": [],
   "source": []
  }
 ],
 "metadata": {
  "kernelspec": {
   "display_name": "Python 3 (ipykernel)",
   "language": "python",
   "name": "python3"
  },
  "language_info": {
   "codemirror_mode": {
    "name": "ipython",
    "version": 3
   },
   "file_extension": ".py",
   "mimetype": "text/x-python",
   "name": "python",
   "nbconvert_exporter": "python",
   "pygments_lexer": "ipython3",
   "version": "3.9.12"
  }
 },
 "nbformat": 4,
 "nbformat_minor": 2
}
